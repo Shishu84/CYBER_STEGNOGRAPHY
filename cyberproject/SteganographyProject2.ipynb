{
 "cells": [
  {
   "cell_type": "raw",
   "id": "cbb9dbbc-d08b-491a-8051-579a123598b9",
   "metadata": {},
   "source": [
    "from PIL import Image\n",
    "import nummpy as np\n"
   ]
  },
  {
   "cell_type": "code",
   "execution_count": null,
   "id": "b18c6fbf-7dfa-4fc1-a613-b8801d280db3",
   "metadata": {},
   "outputs": [],
   "source": [
    "def encode_message_in_image(C:\\Users\\shishu kumar\\cyberproject ,This image is taken from BhaktiCart website ,input2.png\n"
   ]
  },
  {
   "cell_type": "code",
   "execution_count": null,
   "id": "4fa8dd0e-92fd-4599-9bd7-027f89ccc153",
   "metadata": {},
   "outputs": [],
   "source": [
    "    img = Image.open(C:\\Users\\shishu kumar\\cyberproject)\n"
   ]
  },
  {
   "cell_type": "code",
   "execution_count": null,
   "id": "a2255398-6ee5-468e-aae1-845030c0850b",
   "metadata": {},
   "outputs": [],
   "source": [
    "    if img.mode != 'RGB':\n",
    "        img = img.convert('RGB')\n"
   ]
  },
  {
   "cell_type": "code",
   "execution_count": null,
   "id": "a7f750d8-ab11-4999-ad3e-2b2ef97afda4",
   "metadata": {},
   "outputs": [],
   "source": [
    "    encoded = img.copy()\n"
   ]
  },
  {
   "cell_type": "code",
   "execution_count": null,
   "id": "a878b6da-aa97-4753-8800-f08698c0229a",
   "metadata": {},
   "outputs": [],
   "source": [
    "    width, height = img.size\n",
    "    index = 0\n"
   ]
  },
  {
   "cell_type": "code",
   "execution_count": null,
   "id": "e24d650d-fffe-4a73-92f0-77c9233c2782",
   "metadata": {},
   "outputs": [],
   "source": [
    "    message += chr(0)  # Add null character to mark end of message\n"
   ]
  },
  {
   "cell_type": "code",
   "execution_count": null,
   "id": "7d6971fa-ca0c-4002-b85e-51883ba0d145",
   "metadata": {},
   "outputs": [],
   "source": [
    "binary_message = ''.join([format(ord(char), '08b') for char in message])\n"
   ]
  },
  {
   "cell_type": "code",
   "execution_count": null,
   "id": "b3f0c0d4-93ea-44cb-a708-b3c81de86265",
   "metadata": {},
   "outputs": [],
   "source": [
    "image = Image.open('input2.png')\n",
    "image = image.convert('RGB')  # Ensure 3 channels\n",
    "data = np.array(image)\n",
    "flat_data = data.flatten()\n"
   ]
  },
  {
   "cell_type": "code",
   "execution_count": null,
   "id": "21050572-76eb-4947-9a97-a08bf339aeca",
   "metadata": {},
   "outputs": [],
   "source": [
    "if len(binary_message) > len(flat_data):\n",
    "    raise ValueError(\"Message is too long to hide in this image.\")\n"
   ]
  },
  {
   "cell_type": "code",
   "execution_count": null,
   "id": "bd5a53bc-a03b-43b9-bbb1-6cff1686b874",
   "metadata": {},
   "outputs": [],
   "source": [
    "for i in range(len(binary_message)):\n",
    "    flat_data[i] = (flat_data[i] & ~1) | int(binary_message[i])\n"
   ]
  },
  {
   "cell_type": "code",
   "execution_count": null,
   "id": "350de37a-a9df-4eac-bc82-18b743c938d7",
   "metadata": {},
   "outputs": [],
   "source": [
    "encoded_data = flat_data.reshape(data.shape)\n",
    "encoded_image = Image.fromarray(encoded_data.astype('uint8'))\n",
    "encoded_image.save('encoded_image2.png')\n"
   ]
  },
  {
   "cell_type": "code",
   "execution_count": null,
   "id": "0e911f7a-018b-4d1d-95b4-6bb4ec60d8b2",
   "metadata": {},
   "outputs": [],
   "source": [
    "print(\"✅ Message encoded and saved!\")\n"
   ]
  }
 ],
 "metadata": {
  "kernelspec": {
   "display_name": "Python 3 (ipykernel)",
   "language": "python",
   "name": "python3"
  },
  "language_info": {
   "codemirror_mode": {
    "name": "ipython",
    "version": 3
   },
   "file_extension": ".py",
   "mimetype": "text/x-python",
   "name": "python",
   "nbconvert_exporter": "python",
   "pygments_lexer": "ipython3",
   "version": "3.13.5"
  }
 },
 "nbformat": 4,
 "nbformat_minor": 5
}
