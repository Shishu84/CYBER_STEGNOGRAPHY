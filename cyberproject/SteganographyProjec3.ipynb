{
 "cells": [
  {
   "cell_type": "code",
   "execution_count": 9,
   "id": "8c86d442-4bf2-4541-878a-3d21ab27e6c7",
   "metadata": {},
   "outputs": [
    {
     "name": "stdout",
     "output_type": "stream",
     "text": [
      "Defaulting to user installation because normal site-packages is not writeable\n",
      "Requirement already satisfied: pillow in c:\\users\\shishu kumar\\appdata\\local\\packages\\pythonsoftwarefoundation.python.3.13_qbz5n2kfra8p0\\localcache\\local-packages\\python313\\site-packages (11.2.1)\n",
      "Requirement already satisfied: stepic in c:\\users\\shishu kumar\\appdata\\local\\packages\\pythonsoftwarefoundation.python.3.13_qbz5n2kfra8p0\\localcache\\local-packages\\python313\\site-packages (0.5.0)\n"
     ]
    }
   ],
   "source": [
    "!pip install pillow stepic"
   ]
  },
  {
   "cell_type": "code",
   "execution_count": 10,
   "id": "46b4c369-f4e2-499f-907e-a6a0ca99843f",
   "metadata": {},
   "outputs": [],
   "source": [
    "from PIL import Image \n",
    "img = Image.open(\"input3.png\")\n",
    "img.show()"
   ]
  },
  {
   "cell_type": "code",
   "execution_count": 11,
   "id": "8b015bc5-913f-49e7-9a68-e846b4622081",
   "metadata": {},
   "outputs": [],
   "source": [
    "from PIL import Image \n",
    "import stepic"
   ]
  },
  {
   "cell_type": "code",
   "execution_count": 12,
   "id": "61db40ad-f03c-4df4-b93c-7dc8f7375ef1",
   "metadata": {},
   "outputs": [
    {
     "ename": "SyntaxError",
     "evalue": "expected '(' (1399950145.py, line 1)",
     "output_type": "error",
     "traceback": [
      "  \u001b[36mCell\u001b[39m\u001b[36m \u001b[39m\u001b[32mIn[12]\u001b[39m\u001b[32m, line 1\u001b[39m\n\u001b[31m    \u001b[39m\u001b[31mdef image\u001b[39m\n             ^\n\u001b[31mSyntaxError\u001b[39m\u001b[31m:\u001b[39m expected '('\n"
     ]
    }
   ],
   "source": [
    "def image\n",
    "original_image = image.open(\"input.png\")\n",
    "# add the secret messsage\n",
    "secret_message = \" exiting to know that this image is downloaded from NASA Website!\"\n",
    "# encoding the mesage into the image \n",
    "encoded_image = stepic.encode(original_image,secret_message.encode())\n",
    "#save the image with encoddeed message \n",
    "encoded_image.save(\"encoded_image.png\")\n",
    "print(\"Message encoded and image saved as 'encoded_image.png'\")\n"
   ]
  },
  {
   "cell_type": "code",
   "execution_count": null,
   "id": "44886903-ec83-4fb9-ae53-f14993d94991",
   "metadata": {},
   "outputs": [],
   "source": [
    "image.open(\"encoded_image.png\").show()"
   ]
  }
 ],
 "metadata": {
  "kernelspec": {
   "display_name": "Python 3 (ipykernel)",
   "language": "python",
   "name": "python3"
  },
  "language_info": {
   "codemirror_mode": {
    "name": "ipython",
    "version": 3
   },
   "file_extension": ".py",
   "mimetype": "text/x-python",
   "name": "python",
   "nbconvert_exporter": "python",
   "pygments_lexer": "ipython3",
   "version": "3.13.5"
  }
 },
 "nbformat": 4,
 "nbformat_minor": 5
}
