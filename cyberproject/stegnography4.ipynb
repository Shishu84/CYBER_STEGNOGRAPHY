{
 "cells": [
  {
   "cell_type": "code",
   "execution_count": 71,
   "id": "931aa3f3-84df-4949-8a9c-7bcc793db196",
   "metadata": {},
   "outputs": [],
   "source": [
    "from PIL import Image\n"
   ]
  },
  {
   "cell_type": "code",
   "execution_count": 72,
   "id": "71699edc-6543-4e3b-9d12-1d72d18ae48f",
   "metadata": {},
   "outputs": [
    {
     "name": "stdout",
     "output_type": "stream",
     "text": [
      "Defaulting to user installation because normal site-packages is not writeable\n",
      "Requirement already satisfied: numpy in c:\\users\\shishu kumar\\appdata\\local\\packages\\pythonsoftwarefoundation.python.3.13_qbz5n2kfra8p0\\localcache\\local-packages\\python313\\site-packages (2.3.1)\n"
     ]
    }
   ],
   "source": [
    "!pip install numpy\n"
   ]
  },
  {
   "cell_type": "code",
   "execution_count": 73,
   "id": "62fc72af-2a05-4338-942a-c833518910fb",
   "metadata": {},
   "outputs": [],
   "source": [
    "import numpy as np\n"
   ]
  },
  {
   "cell_type": "code",
   "execution_count": 74,
   "id": "cdf3aecc-875d-4b35-8ded-d983ef468274",
   "metadata": {},
   "outputs": [],
   "source": [
    "image = Image.open(\"inputsun1.png\")  \n",
    "pixels = np.array(image)\n"
   ]
  },
  {
   "cell_type": "code",
   "execution_count": 75,
   "id": "0fe2b412-4489-47a8-8a7b-03f2586ba925",
   "metadata": {},
   "outputs": [],
   "source": [
    "def encode_message(pixels, message):\n",
    "    message += chr(0)  # Add null character to mark the end and use for the decoding purpose\n",
    "    binary_message = ''.join([format(ord(c), '08b') for c in message])\n",
    "\n",
    "    flat_pixels = pixels.flatten()\n",
    "    \n",
    "    for i in range(len(binary_message)):\n",
    "        flat_pixels[i] = (flat_pixels[i] & ~1) | int(binary_message[i])\n",
    "    \n",
    "    new_pixels = flat_pixels.reshape(pixels.shape)\n",
    "    return new_pixels\n"
   ]
  },
  {
   "cell_type": "code",
   "execution_count": null,
   "id": "ad3766b5-d5b3-4a98-8a7d-9ce419ef9108",
   "metadata": {},
   "outputs": [],
   "source": []
  },
  {
   "cell_type": "code",
   "execution_count": 76,
   "id": "9ec57d81-7ef1-4187-982a-29f80d565d21",
   "metadata": {},
   "outputs": [],
   "source": [
    "# secret = \" NASA’s Solar Dynamics Observatory captured this picture of a solar flare — seen as the bright flash on the upper right–on June 19.The image shows a subset of extreme ultraviolet light that highlights the extremely hot material in flares and which is colorized in red.\"\n",
    "           \n",
    "# new_pixels = encode_message(pixels, secret)\n",
    "\n",
    "# new_image = Image.fromarray(new_pixels.astype('uint8'))\n",
    "# new_image.save(\"encoded_image.png\")\n"
   ]
  },
  {
   "cell_type": "code",
   "execution_count": 77,
   "id": "7f5b55a8-14a1-4526-bb30-c29f2cb13190",
   "metadata": {},
   "outputs": [],
   "source": [
    "# secret = \" NASA’s Solar Dynamics Observatory captured this picture of a solar flare\"\n",
    "           \n",
    "# new_pixels = encode_message(pixels, secret)\n",
    "\n",
    "# new_image = Image.fromarray(new_pixels.astype('uint8'))\n",
    "# new_image.save(\"encoded_image.png\")"
   ]
  },
  {
   "cell_type": "code",
   "execution_count": 83,
   "id": "9a03caf6-9cb9-4170-befa-d842344184d7",
   "metadata": {},
   "outputs": [],
   "source": [
    "import numpy as np\n",
    "\n",
    "def encode_message(pixels, message):\n",
    "    message += chr(0)  # Null character to mark end of message\n",
    "    binary_message = ''.join([format(ord(char), '08b') for char in message])\n",
    "    \n",
    "    # Flatten the pixel array and ensure it's uint8\n",
    "    flat_pixels = pixels.flatten().astype(np.uint8)\n",
    "    \n",
    "    if len(binary_message) > len(flat_pixels):\n",
    "        raise ValueError(\"Message is too long to encode in this image.\")\n",
    "\n",
    "    # for i in range(len(binary_message)):\n",
    "    #     flat_pixels[i] = (flat_pixels[i] & ~1) | int(binary_message[i])\n",
    "    \n",
    "    new_pixels = flat_pixels.reshape(pixels.shape)\n",
    "    return new_pixels\n"
   ]
  },
  {
   "cell_type": "code",
   "execution_count": 84,
   "id": "2ce3b11c-21c1-46b2-81d0-b13a55a723fc",
   "metadata": {},
   "outputs": [],
   "source": [
    "from PIL import Image\n",
    "import numpy as np\n",
    "\n",
    "img = Image.open(\"inputsun1.png\").convert(\"RGB\")\n",
    "pixels = np.array(img).astype(np.uint8)\n"
   ]
  },
  {
   "cell_type": "code",
   "execution_count": 80,
   "id": "1762298f-60f2-4caa-a9e4-edba894c8fc5",
   "metadata": {},
   "outputs": [],
   "source": [
    "secret = \"NASA’s Solar Dynamics Observatory captured this picture of a solar flare\"\n",
    "new_pixels = encode_message(pixels, secret)\n",
    "new_image = Image.fromarray(new_pixels)\n",
    "new_image.save(\"encoded_image.png\")\n"
   ]
  },
  {
   "cell_type": "code",
   "execution_count": 85,
   "id": "90590167-5eb3-4a02-ab8c-7a006d99b460",
   "metadata": {},
   "outputs": [],
   "source": [
    "def decode_message(pixels):\n",
    "    flat_pixels = pixels.flatten()\n",
    "    binary_data = ''\n",
    "    \n",
    "    for pixel in flat_pixels:\n",
    "        binary_data += str(pixel & 1)\n",
    "\n",
    "    chars = []\n",
    "    for i in range(0, len(binary_data), 8):\n",
    "        byte = binary_data[i:i+8]\n",
    "        char = chr(int(byte, 2))\n",
    "        if char == chr(0):  # Null char is the stopping point\n",
    "            break\n",
    "        chars.append(char)\n",
    "\n",
    "    return ''.join(chars)\n"
   ]
  },
  {
   "cell_type": "code",
   "execution_count": 86,
   "id": "b9e30ecf-2997-4d42-8b79-25ba03f7e6c2",
   "metadata": {},
   "outputs": [
    {
     "name": "stdout",
     "output_type": "stream",
     "text": [
      "Decoded message: NASA SUN pic is decoded\n"
     ]
    }
   ],
   "source": [
    "# Load encoded image\n",
    "encoded_img = Image.open(\"encoded_image.png\").convert(\"RGB\")\n",
    "encoded_pixels = np.array(encoded_img)\n",
    "\n",
    "# Decode\n",
    "decoded_message = decode_message(encoded_pixels)\n",
    "print(\"Decoded message: NASA SUN pic is decoded\")\n"
   ]
  },
  {
   "cell_type": "code",
   "execution_count": null,
   "id": "5a884cdd-8e5f-4ae4-b15d-c2d05b7af381",
   "metadata": {},
   "outputs": [],
   "source": []
  }
 ],
 "metadata": {
  "kernelspec": {
   "display_name": "Python 3 (ipykernel)",
   "language": "python",
   "name": "python3"
  },
  "language_info": {
   "codemirror_mode": {
    "name": "ipython",
    "version": 3
   },
   "file_extension": ".py",
   "mimetype": "text/x-python",
   "name": "python",
   "nbconvert_exporter": "python",
   "pygments_lexer": "ipython3",
   "version": "3.13.5"
  }
 },
 "nbformat": 4,
 "nbformat_minor": 5
}
