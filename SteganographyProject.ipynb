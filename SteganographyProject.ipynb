{
 "cells": [
  {
   "cell_type": "code",
   "execution_count": 1,
   "id": "26f4a6e4-2c4e-4d1d-8d5b-7ff0d05e8cb9",
   "metadata": {},
   "outputs": [
    {
     "name": "stdout",
     "output_type": "stream",
     "text": [
      "Defaulting to user installation because normal site-packages is not writeable\n",
      "Requirement already satisfied: pillow in c:\\users\\shishu kumar\\appdata\\local\\packages\\pythonsoftwarefoundation.python.3.13_qbz5n2kfra8p0\\localcache\\local-packages\\python313\\site-packages (11.2.1)\n",
      "Collecting stepic\n",
      "  Downloading stepic-0.5.0.tar.gz (219 kB)\n",
      "  Installing build dependencies: started\n",
      "  Installing build dependencies: finished with status 'done'\n",
      "  Getting requirements to build wheel: started\n",
      "  Getting requirements to build wheel: finished with status 'done'\n",
      "  Preparing metadata (pyproject.toml): started\n",
      "  Preparing metadata (pyproject.toml): finished with status 'done'\n",
      "Building wheels for collected packages: stepic\n",
      "  Building wheel for stepic (pyproject.toml): started\n",
      "  Building wheel for stepic (pyproject.toml): finished with status 'done'\n",
      "  Created wheel for stepic: filename=stepic-0.5.0-py3-none-any.whl size=12529 sha256=5f67491c6754e6df345ad7c3b3ed9f1ae7a1754e05e3503a6444acf8624f7e10\n",
      "  Stored in directory: c:\\users\\shishu kumar\\appdata\\local\\pip\\cache\\wheels\\f7\\4c\\a1\\2791c89a230cdc97ab0c5ad4b7893b2b4ad6f71374f4ce8352\n",
      "Successfully built stepic\n",
      "Installing collected packages: stepic\n",
      "Successfully installed stepic-0.5.0\n"
     ]
    },
    {
     "name": "stderr",
     "output_type": "stream",
     "text": [
      "  WARNING: The script stepic.exe is installed in 'C:\\Users\\shishu kumar\\AppData\\Local\\Packages\\PythonSoftwareFoundation.Python.3.13_qbz5n2kfra8p0\\LocalCache\\local-packages\\Python313\\Scripts' which is not on PATH.\n",
      "  Consider adding this directory to PATH or, if you prefer to suppress this warning, use --no-warn-script-location.\n"
     ]
    }
   ],
   "source": [
    "!pip install pillow stepic\n",
    "\n"
   ]
  },
  {
   "cell_type": "code",
   "execution_count": 2,
   "id": "316d2370-119c-4323-ae76-0b78b9f7252c",
   "metadata": {},
   "outputs": [
    {
     "data": {
      "text/plain": [
       "'C:\\\\Users\\\\shishu kumar'"
      ]
     },
     "execution_count": 2,
     "metadata": {},
     "output_type": "execute_result"
    }
   ],
   "source": [
    "import os\n",
    "os.getcwd()\n",
    "\n"
   ]
  },
  {
   "cell_type": "code",
   "execution_count": null,
   "id": "f9bb68d4-3d71-4de0-a11d-c1b87782f44a",
   "metadata": {},
   "outputs": [],
   "source": [
    "from PIL import Image # type: ignore\n",
    "\n",
    "img = Image.open(\"input.png\")  \n",
    "img.show()\n"
   ]
  },
  {
   "cell_type": "code",
   "execution_count": null,
   "id": "e86a8f18-662a-46a7-9efc-ac324855895a",
   "metadata": {},
   "outputs": [],
   "source": [
    "from PIL import Image # type: ignore\n",
    "import stepic # type: ignore\n"
   ]
  },
  {
   "cell_type": "code",
   "execution_count": 5,
   "id": "93c1544a-6d5d-4ac7-a972-9a7ef813299c",
   "metadata": {},
   "outputs": [
    {
     "name": "stdout",
     "output_type": "stream",
     "text": [
      "✅ Message encoded and image saved as 'encoded_image.png'\n"
     ]
    }
   ],
   "source": [
    "# Open your original image\n",
    "original_image = Image.open(\"input.png\")\n",
    "\n",
    "# Define the secret message\n",
    "secret_message = \"This is my hidden message!\"\n",
    "\n",
    "# Encode the message into the image\n",
    "encoded_image = stepic.encode(original_image, secret_message.encode())\n",
    "\n",
    "# Save the new image with the message embedded\n",
    "encoded_image.save(\"encoded_image.png\")\n",
    "print(\"✅ Message encoded and image saved as 'encoded_image.png'\")\n"
   ]
  },
  {
   "cell_type": "code",
   "execution_count": 6,
   "id": "7a6db678-f921-4cf2-9aee-e89c6a7c0a37",
   "metadata": {},
   "outputs": [],
   "source": [
    "Image.open(\"encoded_image.png\").show()\n"
   ]
  }
 ],
 "metadata": {
  "kernelspec": {
   "display_name": "Python 3 (ipykernel)",
   "language": "python",
   "name": "python3"
  },
  "language_info": {
   "codemirror_mode": {
    "name": "ipython",
    "version": 3
   },
   "file_extension": ".py",
   "mimetype": "text/x-python",
   "name": "python",
   "nbconvert_exporter": "python",
   "pygments_lexer": "ipython3",
   "version": "3.13.5"
  }
 },
 "nbformat": 4,
 "nbformat_minor": 5
}
